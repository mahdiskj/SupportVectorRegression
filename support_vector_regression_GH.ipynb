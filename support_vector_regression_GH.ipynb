{
  "nbformat": 4,
  "nbformat_minor": 0,
  "metadata": {
    "colab": {
      "name": " support_vector_regression_GH.ipynb",
      "provenance": [],
      "collapsed_sections": [],
      "toc_visible": true,
      "include_colab_link": true
    },
    "kernelspec": {
      "name": "python3",
      "display_name": "Python 3"
    }
  },
  "cells": [
    {
      "cell_type": "markdown",
      "metadata": {
        "id": "view-in-github",
        "colab_type": "text"
      },
      "source": [
        "<a href=\"https://colab.research.google.com/github/mahdiskj/SupportVectorRegression/blob/main/support_vector_regression_GH.ipynb\" target=\"_parent\"><img src=\"https://colab.research.google.com/assets/colab-badge.svg\" alt=\"Open In Colab\"/></a>"
      ]
    },
    {
      "cell_type": "markdown",
      "metadata": {
        "id": "m3PAEPRDRLA3"
      },
      "source": [
        "# Support Vector Regression (SVR)"
      ]
    },
    {
      "cell_type": "markdown",
      "metadata": {
        "id": "0VCUAVIjRdzZ"
      },
      "source": [
        "## Importing the libraries"
      ]
    },
    {
      "cell_type": "code",
      "metadata": {
        "id": "56oRF-QfSDzC"
      },
      "source": [
        "import numpy as np\n",
        "import matplotlib.pyplot as plt\n",
        "import pandas as pd"
      ],
      "execution_count": 36,
      "outputs": []
    },
    {
      "cell_type": "markdown",
      "metadata": {
        "id": "fXVXoFWtSF4_"
      },
      "source": [
        "## Importing the dataset"
      ]
    },
    {
      "cell_type": "code",
      "metadata": {
        "id": "xfoa8OSORfHQ",
        "colab": {
          "base_uri": "https://localhost:8080/",
          "height": 195
        },
        "outputId": "0da14881-bb75-4cae-913c-7fd06e875fa4"
      },
      "source": [
        "dataset = pd.read_csv('MSFT.csv')\n",
        "dataset = dataset.drop(columns=\"Date\")\n",
        "dataset.head()"
      ],
      "execution_count": 37,
      "outputs": [
        {
          "output_type": "execute_result",
          "data": {
            "text/html": [
              "<div>\n",
              "<style scoped>\n",
              "    .dataframe tbody tr th:only-of-type {\n",
              "        vertical-align: middle;\n",
              "    }\n",
              "\n",
              "    .dataframe tbody tr th {\n",
              "        vertical-align: top;\n",
              "    }\n",
              "\n",
              "    .dataframe thead th {\n",
              "        text-align: right;\n",
              "    }\n",
              "</style>\n",
              "<table border=\"1\" class=\"dataframe\">\n",
              "  <thead>\n",
              "    <tr style=\"text-align: right;\">\n",
              "      <th></th>\n",
              "      <th>Open</th>\n",
              "      <th>High</th>\n",
              "      <th>Low</th>\n",
              "      <th>Close</th>\n",
              "      <th>Adj Close</th>\n",
              "      <th>Volume</th>\n",
              "    </tr>\n",
              "  </thead>\n",
              "  <tbody>\n",
              "    <tr>\n",
              "      <th>0</th>\n",
              "      <td>177.139999</td>\n",
              "      <td>180.639999</td>\n",
              "      <td>176.309998</td>\n",
              "      <td>180.119995</td>\n",
              "      <td>178.231873</td>\n",
              "      <td>36433300</td>\n",
              "    </tr>\n",
              "    <tr>\n",
              "      <th>1</th>\n",
              "      <td>184.029999</td>\n",
              "      <td>184.199997</td>\n",
              "      <td>178.410004</td>\n",
              "      <td>179.899994</td>\n",
              "      <td>178.014191</td>\n",
              "      <td>39186300</td>\n",
              "    </tr>\n",
              "    <tr>\n",
              "      <th>2</th>\n",
              "      <td>180.970001</td>\n",
              "      <td>183.820007</td>\n",
              "      <td>180.059998</td>\n",
              "      <td>183.630005</td>\n",
              "      <td>181.705093</td>\n",
              "      <td>27751400</td>\n",
              "    </tr>\n",
              "    <tr>\n",
              "      <th>3</th>\n",
              "      <td>182.850006</td>\n",
              "      <td>185.630005</td>\n",
              "      <td>182.479996</td>\n",
              "      <td>183.889999</td>\n",
              "      <td>181.962357</td>\n",
              "      <td>33529100</td>\n",
              "    </tr>\n",
              "    <tr>\n",
              "      <th>4</th>\n",
              "      <td>183.580002</td>\n",
              "      <td>188.839996</td>\n",
              "      <td>183.250000</td>\n",
              "      <td>188.699997</td>\n",
              "      <td>186.721939</td>\n",
              "      <td>35844300</td>\n",
              "    </tr>\n",
              "  </tbody>\n",
              "</table>\n",
              "</div>"
            ],
            "text/plain": [
              "         Open        High         Low       Close   Adj Close    Volume\n",
              "0  177.139999  180.639999  176.309998  180.119995  178.231873  36433300\n",
              "1  184.029999  184.199997  178.410004  179.899994  178.014191  39186300\n",
              "2  180.970001  183.820007  180.059998  183.630005  181.705093  27751400\n",
              "3  182.850006  185.630005  182.479996  183.889999  181.962357  33529100\n",
              "4  183.580002  188.839996  183.250000  188.699997  186.721939  35844300"
            ]
          },
          "metadata": {
            "tags": []
          },
          "execution_count": 37
        }
      ]
    },
    {
      "cell_type": "code",
      "metadata": {
        "id": "fAWJV6gpiTYM",
        "colab": {
          "base_uri": "https://localhost:8080/"
        },
        "outputId": "3f0ca651-1232-49dd-c75b-75aa322ab103"
      },
      "source": [
        "X = dataset.iloc[:, 0:-1].values\r\n",
        "y = dataset.iloc[:, -1].values\r\n",
        "print(X)"
      ],
      "execution_count": 38,
      "outputs": [
        {
          "output_type": "stream",
          "text": [
            "[[177.139999 180.639999 176.309998 180.119995 178.231873]\n",
            " [184.029999 184.199997 178.410004 179.899994 178.014191]\n",
            " [180.970001 183.820007 180.059998 183.630005 181.705093]\n",
            " ...\n",
            " [235.059998 242.5      232.429993 239.649994 239.649994]\n",
            " [241.300003 242.309998 238.690002 239.509995 239.509995]\n",
            " [239.570007 245.089996 239.259995 243.       243.      ]]\n"
          ],
          "name": "stdout"
        }
      ]
    },
    {
      "cell_type": "code",
      "metadata": {
        "id": "_8Ny1GfPiV3m"
      },
      "source": [
        "# the scaler class expect a 2-D array as input \r\n",
        "y = y.reshape(len(y),1)"
      ],
      "execution_count": 39,
      "outputs": []
    },
    {
      "cell_type": "code",
      "metadata": {
        "id": "1lfYkuqZtXg4"
      },
      "source": [
        "from sklearn.model_selection import train_test_split\r\n",
        "X_train, X_test, y_train, y_test = train_test_split(X, y, test_size = 0.2, random_state = 1)"
      ],
      "execution_count": 40,
      "outputs": []
    },
    {
      "cell_type": "markdown",
      "metadata": {
        "id": "YS8FeLHYS-nI"
      },
      "source": [
        "## Feature Scaling"
      ]
    },
    {
      "cell_type": "code",
      "metadata": {
        "id": "PGeAlD1HTDI1"
      },
      "source": [
        "# because the dependant and independant variables are way different in scale, ...\n",
        "# ...it's better to convert them into somehow same scales (x & y)\n",
        "# we also need to rescale them back into original scales to have an accurate prediction and visualization\n",
        "from sklearn.preprocessing import StandardScaler\n",
        "# we don't use the same standard scaler object for x and y because they are way different ...\n",
        "# ... and we want an accurate scaling based on x and y values seperately\n",
        "sc_X = StandardScaler()\n",
        "sc_y = StandardScaler()\n",
        "X_train = sc_X.fit_transform(X_train)\n",
        "y_train = sc_y.fit_transform(y_train)\n",
        "\n",
        "X_test = sc_X.fit_transform(X_test)\n",
        "y_test = sc_y.fit_transform(y_test)"
      ],
      "execution_count": 41,
      "outputs": []
    },
    {
      "cell_type": "code",
      "metadata": {
        "id": "i7Oo2kybjGr2",
        "colab": {
          "base_uri": "https://localhost:8080/"
        },
        "outputId": "c47e9683-9619-44a4-ef11-b3f669e39117"
      },
      "source": [
        "print(X_train)"
      ],
      "execution_count": 42,
      "outputs": [
        {
          "output_type": "stream",
          "text": [
            "[[-0.76028027 -0.65326606 -0.66295156 -0.54506859 -0.54263886]\n",
            " [ 0.24793248  0.36490574  0.35235797  0.29843513  0.3054416 ]\n",
            " [ 0.74364415  0.76989851  0.83603645  0.84594767  0.84260909]\n",
            " ...\n",
            " [ 0.7399134   0.66461941  0.73966916  0.681972    0.68173131]\n",
            " [ 0.92131699  0.90457968  0.95176858  0.95665455  0.97735407]\n",
            " [-2.19985049 -2.21063714 -2.17577162 -2.28210193 -2.26158964]]\n"
          ],
          "name": "stdout"
        }
      ]
    },
    {
      "cell_type": "markdown",
      "metadata": {
        "id": "eiU6D2QFRjxY"
      },
      "source": [
        "## Training the SVR model on the whole dataset"
      ]
    },
    {
      "cell_type": "code",
      "metadata": {
        "id": "y6R4rt_GRz15",
        "colab": {
          "base_uri": "https://localhost:8080/"
        },
        "outputId": "47d32565-879b-4171-bee2-576d9443edb1"
      },
      "source": [
        "from sklearn.svm import SVR\n",
        "# the kernel is adapted with different kinds of data, here we have polynomial data so we use 'rbf' (radial basis function)\n",
        "regressor = SVR(kernel = 'rbf')\n",
        "regressor.fit(X_train, y_train)"
      ],
      "execution_count": 43,
      "outputs": [
        {
          "output_type": "stream",
          "text": [
            "/usr/local/lib/python3.6/dist-packages/sklearn/utils/validation.py:760: DataConversionWarning: A column-vector y was passed when a 1d array was expected. Please change the shape of y to (n_samples, ), for example using ravel().\n",
            "  y = column_or_1d(y, warn=True)\n"
          ],
          "name": "stderr"
        },
        {
          "output_type": "execute_result",
          "data": {
            "text/plain": [
              "SVR(C=1.0, cache_size=200, coef0=0.0, degree=3, epsilon=0.1, gamma='scale',\n",
              "    kernel='rbf', max_iter=-1, shrinking=True, tol=0.001, verbose=False)"
            ]
          },
          "metadata": {
            "tags": []
          },
          "execution_count": 43
        }
      ]
    },
    {
      "cell_type": "markdown",
      "metadata": {
        "id": "deDnDr8UR5vq"
      },
      "source": [
        "## Predicting a new result"
      ]
    },
    {
      "cell_type": "code",
      "metadata": {
        "id": "ib89-Fq8R8v-",
        "colab": {
          "base_uri": "https://localhost:8080/"
        },
        "outputId": "7053b00e-989e-461c-e75f-fadafc5d2e3b"
      },
      "source": [
        "# we must reverse the scaling now, because if we don't we'll actually see the scaled result as well and it's not our interest\r\n",
        "# sc_X.transform([[6.5]]) : the model was rained on scaled data, so to get a proper output, we need to scale our new input by the same scaler\r\n",
        "# sc_y.inverse_transform : the output withuot this finction will be in the scaled mode, too...\r\n",
        "#... we should reverse the scaling to go back to the original sclae of the predicted output.\r\n",
        "y_pred=sc_y.inverse_transform(regressor.predict(X_test))\r\n",
        "print(y_pred)"
      ],
      "execution_count": 44,
      "outputs": [
        {
          "output_type": "stream",
          "text": [
            "[32603775.26325317 45499469.91816276 25447560.83996712 27347715.66611401\n",
            " 34051868.7466249  25274887.23374837 38390306.92292266 30633924.4454717\n",
            " 26201200.69573077 33110209.49930487 30939844.73137898 34109505.0781259\n",
            " 31006699.28325015 32926937.13649088 26085578.19121896 33412161.74088878\n",
            " 27224435.93238357 33429092.13966255 65003652.1037617  32561524.61428787\n",
            " 26745211.13422912 66923223.43147755 34985257.34311809 30626571.11049755\n",
            " 30164040.16402817 25798783.69955047 36849488.19205575 27300464.75207167\n",
            " 56469511.60653266 27166667.78900655 28001318.36614846 43939475.61961868\n",
            " 33717858.73056886 25348795.72675727 36281885.39293722 42825299.65949941\n",
            " 52014301.03328599 71037723.24345723 42040613.38264525 26781275.67493628\n",
            " 31939043.58330397 45778903.61100532 32865309.96175176 33184786.92495392\n",
            " 77940470.005868   25533827.42482757 65345575.90030096 34825499.9860617\n",
            " 71760262.85114494 32860484.23556805 27213282.6167594 ]\n"
          ],
          "name": "stdout"
        }
      ]
    }
  ]
}